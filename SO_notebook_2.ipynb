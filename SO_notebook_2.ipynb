{
 "cells": [
  {
   "cell_type": "code",
   "execution_count": 1,
   "metadata": {
    "collapsed": true
   },
   "outputs": [],
   "source": [
    "%matplotlib inline"
   ]
  },
  {
   "cell_type": "code",
   "execution_count": 32,
   "metadata": {
    "collapsed": true
   },
   "outputs": [],
   "source": [
    "import pandas as pd\n",
    "import seaborn\n",
    "import matplotlib.pyplot as plt\n",
    "import numpy as np"
   ]
  },
  {
   "cell_type": "code",
   "execution_count": 3,
   "metadata": {},
   "outputs": [
    {
     "name": "stdout",
     "output_type": "stream",
     "text": [
      "survey_results_public.csv\n",
      "survey_results_schema.csv\n"
     ]
    }
   ],
   "source": [
    "%%bash\n",
    "cd data\n",
    "ls"
   ]
  },
  {
   "cell_type": "code",
   "execution_count": 4,
   "metadata": {},
   "outputs": [
    {
     "name": "stdout",
     "output_type": "stream",
     "text": [
      "README.md\n",
      "SO_notebook_2.ipynb\n",
      "data\n"
     ]
    }
   ],
   "source": [
    "%%bash\n",
    "ls"
   ]
  },
  {
   "cell_type": "code",
   "execution_count": 5,
   "metadata": {
    "collapsed": true
   },
   "outputs": [],
   "source": [
    "df1 = pd.read_csv('data/survey_results_schema.csv')"
   ]
  },
  {
   "cell_type": "code",
   "execution_count": 120,
   "metadata": {},
   "outputs": [
    {
     "name": "stderr",
     "output_type": "stream",
     "text": [
      "/anaconda/lib/python3.6/site-packages/IPython/core/interactiveshell.py:2698: DtypeWarning: Columns (8,12,13,14,15,16,50,51,52,53,55,56,57,58,59,60,61,62,63,64,65,66,67,68,69,70,71,72,73,74,75,76,77,78,79,80,81,82,83,84,85,93,94,95,96,97,98,99,100,101,102,103,104,105,106,107,108,109,110,111,112,113,114,115,116,117,118,119,120,121,122,123,124,125,126,127,128) have mixed types. Specify dtype option on import or set low_memory=False.\n",
      "  interactivity=interactivity, compiler=compiler, result=result)\n"
     ]
    }
   ],
   "source": [
    "df2 = pd.read_csv('data/survey_results_public.csv') #Check warning"
   ]
  },
  {
   "cell_type": "code",
   "execution_count": 7,
   "metadata": {},
   "outputs": [
    {
     "name": "stdout",
     "output_type": "stream",
     "text": [
      "(129, 2)\n",
      "(98855, 129)\n"
     ]
    }
   ],
   "source": [
    "print(df1.shape)\n",
    "print(df2.shape)"
   ]
  },
  {
   "cell_type": "code",
   "execution_count": 8,
   "metadata": {},
   "outputs": [
    {
     "data": {
      "text/html": [
       "<div>\n",
       "<style>\n",
       "    .dataframe thead tr:only-child th {\n",
       "        text-align: right;\n",
       "    }\n",
       "\n",
       "    .dataframe thead th {\n",
       "        text-align: left;\n",
       "    }\n",
       "\n",
       "    .dataframe tbody tr th {\n",
       "        vertical-align: top;\n",
       "    }\n",
       "</style>\n",
       "<table border=\"1\" class=\"dataframe\">\n",
       "  <thead>\n",
       "    <tr style=\"text-align: right;\">\n",
       "      <th></th>\n",
       "      <th>Column</th>\n",
       "      <th>QuestionText</th>\n",
       "    </tr>\n",
       "  </thead>\n",
       "  <tbody>\n",
       "    <tr>\n",
       "      <th>0</th>\n",
       "      <td>Respondent</td>\n",
       "      <td>Randomized respondent ID number (not in order ...</td>\n",
       "    </tr>\n",
       "    <tr>\n",
       "      <th>1</th>\n",
       "      <td>Hobby</td>\n",
       "      <td>Do you code as a hobby?</td>\n",
       "    </tr>\n",
       "    <tr>\n",
       "      <th>2</th>\n",
       "      <td>OpenSource</td>\n",
       "      <td>Do you contribute to open source projects?</td>\n",
       "    </tr>\n",
       "    <tr>\n",
       "      <th>3</th>\n",
       "      <td>Country</td>\n",
       "      <td>In which country do you currently reside?</td>\n",
       "    </tr>\n",
       "    <tr>\n",
       "      <th>4</th>\n",
       "      <td>Student</td>\n",
       "      <td>Are you currently enrolled in a formal, degree...</td>\n",
       "    </tr>\n",
       "    <tr>\n",
       "      <th>5</th>\n",
       "      <td>Employment</td>\n",
       "      <td>Which of the following best describes your cur...</td>\n",
       "    </tr>\n",
       "    <tr>\n",
       "      <th>6</th>\n",
       "      <td>FormalEducation</td>\n",
       "      <td>Which of the following best describes the high...</td>\n",
       "    </tr>\n",
       "    <tr>\n",
       "      <th>7</th>\n",
       "      <td>UndergradMajor</td>\n",
       "      <td>You previously indicated that you went to a co...</td>\n",
       "    </tr>\n",
       "    <tr>\n",
       "      <th>8</th>\n",
       "      <td>CompanySize</td>\n",
       "      <td>Approximately how many people are employed by ...</td>\n",
       "    </tr>\n",
       "    <tr>\n",
       "      <th>9</th>\n",
       "      <td>DevType</td>\n",
       "      <td>Which of the following describe you? Please se...</td>\n",
       "    </tr>\n",
       "    <tr>\n",
       "      <th>10</th>\n",
       "      <td>YearsCoding</td>\n",
       "      <td>Including any education, for how many years ha...</td>\n",
       "    </tr>\n",
       "    <tr>\n",
       "      <th>11</th>\n",
       "      <td>YearsCodingProf</td>\n",
       "      <td>For how many years have you coded professional...</td>\n",
       "    </tr>\n",
       "    <tr>\n",
       "      <th>12</th>\n",
       "      <td>JobSatisfaction</td>\n",
       "      <td>How satisfied are you with your current job? I...</td>\n",
       "    </tr>\n",
       "    <tr>\n",
       "      <th>13</th>\n",
       "      <td>CareerSatisfaction</td>\n",
       "      <td>Overall, how satisfied are you with your caree...</td>\n",
       "    </tr>\n",
       "    <tr>\n",
       "      <th>14</th>\n",
       "      <td>HopeFiveYears</td>\n",
       "      <td>Which of the following best describes what you...</td>\n",
       "    </tr>\n",
       "    <tr>\n",
       "      <th>15</th>\n",
       "      <td>JobSearchStatus</td>\n",
       "      <td>Which of the following best describes your cur...</td>\n",
       "    </tr>\n",
       "    <tr>\n",
       "      <th>16</th>\n",
       "      <td>LastNewJob</td>\n",
       "      <td>When was the last time that you took a job wit...</td>\n",
       "    </tr>\n",
       "    <tr>\n",
       "      <th>17</th>\n",
       "      <td>AssessJob1</td>\n",
       "      <td>Imagine that you are assessing a potential job...</td>\n",
       "    </tr>\n",
       "    <tr>\n",
       "      <th>18</th>\n",
       "      <td>AssessJob2</td>\n",
       "      <td>Imagine that you are assessing a potential job...</td>\n",
       "    </tr>\n",
       "    <tr>\n",
       "      <th>19</th>\n",
       "      <td>AssessJob3</td>\n",
       "      <td>Imagine that you are assessing a potential job...</td>\n",
       "    </tr>\n",
       "    <tr>\n",
       "      <th>20</th>\n",
       "      <td>AssessJob4</td>\n",
       "      <td>Imagine that you are assessing a potential job...</td>\n",
       "    </tr>\n",
       "    <tr>\n",
       "      <th>21</th>\n",
       "      <td>AssessJob5</td>\n",
       "      <td>Imagine that you are assessing a potential job...</td>\n",
       "    </tr>\n",
       "    <tr>\n",
       "      <th>22</th>\n",
       "      <td>AssessJob6</td>\n",
       "      <td>Imagine that you are assessing a potential job...</td>\n",
       "    </tr>\n",
       "    <tr>\n",
       "      <th>23</th>\n",
       "      <td>AssessJob7</td>\n",
       "      <td>Imagine that you are assessing a potential job...</td>\n",
       "    </tr>\n",
       "    <tr>\n",
       "      <th>24</th>\n",
       "      <td>AssessJob8</td>\n",
       "      <td>Imagine that you are assessing a potential job...</td>\n",
       "    </tr>\n",
       "    <tr>\n",
       "      <th>25</th>\n",
       "      <td>AssessJob9</td>\n",
       "      <td>Imagine that you are assessing a potential job...</td>\n",
       "    </tr>\n",
       "    <tr>\n",
       "      <th>26</th>\n",
       "      <td>AssessJob10</td>\n",
       "      <td>Imagine that you are assessing a potential job...</td>\n",
       "    </tr>\n",
       "    <tr>\n",
       "      <th>27</th>\n",
       "      <td>AssessBenefits1</td>\n",
       "      <td>Now, imagine you are assessing a job's benefit...</td>\n",
       "    </tr>\n",
       "    <tr>\n",
       "      <th>28</th>\n",
       "      <td>AssessBenefits2</td>\n",
       "      <td>Now, imagine you are assessing a job's benefit...</td>\n",
       "    </tr>\n",
       "    <tr>\n",
       "      <th>29</th>\n",
       "      <td>AssessBenefits3</td>\n",
       "      <td>Now, imagine you are assessing a job's benefit...</td>\n",
       "    </tr>\n",
       "    <tr>\n",
       "      <th>...</th>\n",
       "      <td>...</td>\n",
       "      <td>...</td>\n",
       "    </tr>\n",
       "    <tr>\n",
       "      <th>99</th>\n",
       "      <td>EthicsResponsible</td>\n",
       "      <td>Who do you believe is ultimately most responsi...</td>\n",
       "    </tr>\n",
       "    <tr>\n",
       "      <th>100</th>\n",
       "      <td>EthicalImplications</td>\n",
       "      <td>Do you believe that you have an obligation to ...</td>\n",
       "    </tr>\n",
       "    <tr>\n",
       "      <th>101</th>\n",
       "      <td>StackOverflowRecommend</td>\n",
       "      <td>How likely is it that you would recommend Stac...</td>\n",
       "    </tr>\n",
       "    <tr>\n",
       "      <th>102</th>\n",
       "      <td>StackOverflowVisit</td>\n",
       "      <td>How frequently would you say you visit Stack O...</td>\n",
       "    </tr>\n",
       "    <tr>\n",
       "      <th>103</th>\n",
       "      <td>StackOverflowHasAccount</td>\n",
       "      <td>Do you have a Stack Overflow account?</td>\n",
       "    </tr>\n",
       "    <tr>\n",
       "      <th>104</th>\n",
       "      <td>StackOverflowParticipate</td>\n",
       "      <td>How frequently would you say you participate i...</td>\n",
       "    </tr>\n",
       "    <tr>\n",
       "      <th>105</th>\n",
       "      <td>StackOverflowJobs</td>\n",
       "      <td>Have you ever used or visited Stack Overflow J...</td>\n",
       "    </tr>\n",
       "    <tr>\n",
       "      <th>106</th>\n",
       "      <td>StackOverflowDevStory</td>\n",
       "      <td>Do you have an up-to-date Developer Story on S...</td>\n",
       "    </tr>\n",
       "    <tr>\n",
       "      <th>107</th>\n",
       "      <td>StackOverflowJobsRecommend</td>\n",
       "      <td>How likely is it that you would recommend Stac...</td>\n",
       "    </tr>\n",
       "    <tr>\n",
       "      <th>108</th>\n",
       "      <td>StackOverflowConsiderMember</td>\n",
       "      <td>Do you consider yourself a member of the Stack...</td>\n",
       "    </tr>\n",
       "    <tr>\n",
       "      <th>109</th>\n",
       "      <td>HypotheticalTools1</td>\n",
       "      <td>Please rate your interest in participating in ...</td>\n",
       "    </tr>\n",
       "    <tr>\n",
       "      <th>110</th>\n",
       "      <td>HypotheticalTools2</td>\n",
       "      <td>Please rate your interest in participating in ...</td>\n",
       "    </tr>\n",
       "    <tr>\n",
       "      <th>111</th>\n",
       "      <td>HypotheticalTools3</td>\n",
       "      <td>Please rate your interest in participating in ...</td>\n",
       "    </tr>\n",
       "    <tr>\n",
       "      <th>112</th>\n",
       "      <td>HypotheticalTools4</td>\n",
       "      <td>Please rate your interest in participating in ...</td>\n",
       "    </tr>\n",
       "    <tr>\n",
       "      <th>113</th>\n",
       "      <td>HypotheticalTools5</td>\n",
       "      <td>Please rate your interest in participating in ...</td>\n",
       "    </tr>\n",
       "    <tr>\n",
       "      <th>114</th>\n",
       "      <td>WakeTime</td>\n",
       "      <td>On days when you work, what time do you typica...</td>\n",
       "    </tr>\n",
       "    <tr>\n",
       "      <th>115</th>\n",
       "      <td>HoursComputer</td>\n",
       "      <td>On a typical day, how much time do you spend o...</td>\n",
       "    </tr>\n",
       "    <tr>\n",
       "      <th>116</th>\n",
       "      <td>HoursOutside</td>\n",
       "      <td>On a typical day, how much time do you spend o...</td>\n",
       "    </tr>\n",
       "    <tr>\n",
       "      <th>117</th>\n",
       "      <td>SkipMeals</td>\n",
       "      <td>In a typical week, how many times do you skip ...</td>\n",
       "    </tr>\n",
       "    <tr>\n",
       "      <th>118</th>\n",
       "      <td>ErgonomicDevices</td>\n",
       "      <td>What ergonomic furniture or devices do you use...</td>\n",
       "    </tr>\n",
       "    <tr>\n",
       "      <th>119</th>\n",
       "      <td>Exercise</td>\n",
       "      <td>In a typical week, how many times do you exerc...</td>\n",
       "    </tr>\n",
       "    <tr>\n",
       "      <th>120</th>\n",
       "      <td>Gender</td>\n",
       "      <td>Which of the following do you currently identi...</td>\n",
       "    </tr>\n",
       "    <tr>\n",
       "      <th>121</th>\n",
       "      <td>SexualOrientation</td>\n",
       "      <td>Which of the following do you currently identi...</td>\n",
       "    </tr>\n",
       "    <tr>\n",
       "      <th>122</th>\n",
       "      <td>EducationParents</td>\n",
       "      <td>What is the highest level of education receive...</td>\n",
       "    </tr>\n",
       "    <tr>\n",
       "      <th>123</th>\n",
       "      <td>RaceEthnicity</td>\n",
       "      <td>Which of the following do you identify as? Ple...</td>\n",
       "    </tr>\n",
       "    <tr>\n",
       "      <th>124</th>\n",
       "      <td>Age</td>\n",
       "      <td>What is your age? If you prefer not to answer,...</td>\n",
       "    </tr>\n",
       "    <tr>\n",
       "      <th>125</th>\n",
       "      <td>Dependents</td>\n",
       "      <td>Do you have any children or other dependents t...</td>\n",
       "    </tr>\n",
       "    <tr>\n",
       "      <th>126</th>\n",
       "      <td>MilitaryUS</td>\n",
       "      <td>Are you currently serving or have you ever ser...</td>\n",
       "    </tr>\n",
       "    <tr>\n",
       "      <th>127</th>\n",
       "      <td>SurveyTooLong</td>\n",
       "      <td>How do you feel about the length of the survey...</td>\n",
       "    </tr>\n",
       "    <tr>\n",
       "      <th>128</th>\n",
       "      <td>SurveyEasy</td>\n",
       "      <td>How easy or difficult was this survey to compl...</td>\n",
       "    </tr>\n",
       "  </tbody>\n",
       "</table>\n",
       "<p>129 rows × 2 columns</p>\n",
       "</div>"
      ],
      "text/plain": [
       "                          Column  \\\n",
       "0                     Respondent   \n",
       "1                          Hobby   \n",
       "2                     OpenSource   \n",
       "3                        Country   \n",
       "4                        Student   \n",
       "5                     Employment   \n",
       "6                FormalEducation   \n",
       "7                 UndergradMajor   \n",
       "8                    CompanySize   \n",
       "9                        DevType   \n",
       "10                   YearsCoding   \n",
       "11               YearsCodingProf   \n",
       "12               JobSatisfaction   \n",
       "13            CareerSatisfaction   \n",
       "14                 HopeFiveYears   \n",
       "15               JobSearchStatus   \n",
       "16                    LastNewJob   \n",
       "17                    AssessJob1   \n",
       "18                    AssessJob2   \n",
       "19                    AssessJob3   \n",
       "20                    AssessJob4   \n",
       "21                    AssessJob5   \n",
       "22                    AssessJob6   \n",
       "23                    AssessJob7   \n",
       "24                    AssessJob8   \n",
       "25                    AssessJob9   \n",
       "26                   AssessJob10   \n",
       "27               AssessBenefits1   \n",
       "28               AssessBenefits2   \n",
       "29               AssessBenefits3   \n",
       "..                           ...   \n",
       "99             EthicsResponsible   \n",
       "100          EthicalImplications   \n",
       "101       StackOverflowRecommend   \n",
       "102           StackOverflowVisit   \n",
       "103      StackOverflowHasAccount   \n",
       "104     StackOverflowParticipate   \n",
       "105            StackOverflowJobs   \n",
       "106        StackOverflowDevStory   \n",
       "107   StackOverflowJobsRecommend   \n",
       "108  StackOverflowConsiderMember   \n",
       "109           HypotheticalTools1   \n",
       "110           HypotheticalTools2   \n",
       "111           HypotheticalTools3   \n",
       "112           HypotheticalTools4   \n",
       "113           HypotheticalTools5   \n",
       "114                     WakeTime   \n",
       "115                HoursComputer   \n",
       "116                 HoursOutside   \n",
       "117                    SkipMeals   \n",
       "118             ErgonomicDevices   \n",
       "119                     Exercise   \n",
       "120                       Gender   \n",
       "121            SexualOrientation   \n",
       "122             EducationParents   \n",
       "123                RaceEthnicity   \n",
       "124                          Age   \n",
       "125                   Dependents   \n",
       "126                   MilitaryUS   \n",
       "127                SurveyTooLong   \n",
       "128                   SurveyEasy   \n",
       "\n",
       "                                          QuestionText  \n",
       "0    Randomized respondent ID number (not in order ...  \n",
       "1                              Do you code as a hobby?  \n",
       "2           Do you contribute to open source projects?  \n",
       "3            In which country do you currently reside?  \n",
       "4    Are you currently enrolled in a formal, degree...  \n",
       "5    Which of the following best describes your cur...  \n",
       "6    Which of the following best describes the high...  \n",
       "7    You previously indicated that you went to a co...  \n",
       "8    Approximately how many people are employed by ...  \n",
       "9    Which of the following describe you? Please se...  \n",
       "10   Including any education, for how many years ha...  \n",
       "11   For how many years have you coded professional...  \n",
       "12   How satisfied are you with your current job? I...  \n",
       "13   Overall, how satisfied are you with your caree...  \n",
       "14   Which of the following best describes what you...  \n",
       "15   Which of the following best describes your cur...  \n",
       "16   When was the last time that you took a job wit...  \n",
       "17   Imagine that you are assessing a potential job...  \n",
       "18   Imagine that you are assessing a potential job...  \n",
       "19   Imagine that you are assessing a potential job...  \n",
       "20   Imagine that you are assessing a potential job...  \n",
       "21   Imagine that you are assessing a potential job...  \n",
       "22   Imagine that you are assessing a potential job...  \n",
       "23   Imagine that you are assessing a potential job...  \n",
       "24   Imagine that you are assessing a potential job...  \n",
       "25   Imagine that you are assessing a potential job...  \n",
       "26   Imagine that you are assessing a potential job...  \n",
       "27   Now, imagine you are assessing a job's benefit...  \n",
       "28   Now, imagine you are assessing a job's benefit...  \n",
       "29   Now, imagine you are assessing a job's benefit...  \n",
       "..                                                 ...  \n",
       "99   Who do you believe is ultimately most responsi...  \n",
       "100  Do you believe that you have an obligation to ...  \n",
       "101  How likely is it that you would recommend Stac...  \n",
       "102  How frequently would you say you visit Stack O...  \n",
       "103              Do you have a Stack Overflow account?  \n",
       "104  How frequently would you say you participate i...  \n",
       "105  Have you ever used or visited Stack Overflow J...  \n",
       "106  Do you have an up-to-date Developer Story on S...  \n",
       "107  How likely is it that you would recommend Stac...  \n",
       "108  Do you consider yourself a member of the Stack...  \n",
       "109  Please rate your interest in participating in ...  \n",
       "110  Please rate your interest in participating in ...  \n",
       "111  Please rate your interest in participating in ...  \n",
       "112  Please rate your interest in participating in ...  \n",
       "113  Please rate your interest in participating in ...  \n",
       "114  On days when you work, what time do you typica...  \n",
       "115  On a typical day, how much time do you spend o...  \n",
       "116  On a typical day, how much time do you spend o...  \n",
       "117  In a typical week, how many times do you skip ...  \n",
       "118  What ergonomic furniture or devices do you use...  \n",
       "119  In a typical week, how many times do you exerc...  \n",
       "120  Which of the following do you currently identi...  \n",
       "121  Which of the following do you currently identi...  \n",
       "122  What is the highest level of education receive...  \n",
       "123  Which of the following do you identify as? Ple...  \n",
       "124  What is your age? If you prefer not to answer,...  \n",
       "125  Do you have any children or other dependents t...  \n",
       "126  Are you currently serving or have you ever ser...  \n",
       "127  How do you feel about the length of the survey...  \n",
       "128  How easy or difficult was this survey to compl...  \n",
       "\n",
       "[129 rows x 2 columns]"
      ]
     },
     "execution_count": 8,
     "metadata": {},
     "output_type": "execute_result"
    }
   ],
   "source": [
    "df1"
   ]
  },
  {
   "cell_type": "code",
   "execution_count": 9,
   "metadata": {},
   "outputs": [
    {
     "data": {
      "text/plain": [
       "<Container object of 2 artists>"
      ]
     },
     "execution_count": 9,
     "metadata": {},
     "output_type": "execute_result"
    },
    {
     "data": {
      "image/png": "[encoded data removed]",
      "text/plain": [
       "<matplotlib.figure.Figure at 0x11f753160>"
      ]
     },
     "metadata": {},
     "output_type": "display_data"
    }
   ],
   "source": [
    "#Hobby Coders\n",
    "plt.figure(1)\n",
    "for_plot = df2.groupby([\"Hobby\"]).size()\n",
    "for_plot = for_plot.reset_index()\n",
    "plt.bar(x = for_plot[\"Hobby\"] , height = for_plot[0])"
   ]
  },
  {
   "cell_type": "code",
   "execution_count": 10,
   "metadata": {},
   "outputs": [
    {
     "data": {
      "text/plain": [
       "<Container object of 2 artists>"
      ]
     },
     "execution_count": 10,
     "metadata": {},
     "output_type": "execute_result"
    },
    {
     "data": {
      "image/png": "[encoded data removed]",
      "text/plain": [
       "<matplotlib.figure.Figure at 0x114676828>"
      ]
     },
     "metadata": {},
     "output_type": "display_data"
    }
   ],
   "source": [
    "#Open Sources\n",
    "plt.figure(1)\n",
    "for_plot = df2.groupby([\"OpenSource\"]).size()\n",
    "for_plot = for_plot.reset_index()\n",
    "plt.bar(x = for_plot[\"OpenSource\"] , height = for_plot[0])"
   ]
  },
  {
   "cell_type": "code",
   "execution_count": 100,
   "metadata": {},
   "outputs": [
    {
     "data": {
      "text/plain": [
       "<Container object of 2 artists>"
      ]
     },
     "execution_count": 100,
     "metadata": {},
     "output_type": "execute_result"
    },
    {
     "data": {
      "image/png": "[encoded data removed]",
      "text/plain": [
       "<matplotlib.figure.Figure at 0x115b965f8>"
      ]
     },
     "metadata": {},
     "output_type": "display_data"
    }
   ],
   "source": [
    "#Of the hobbyisits how many open sourcers and how many not?? ... Hmm not much of difference\n",
    "plt.figure(1)\n",
    "for_plot = df2[df2['Hobby'] == \"Yes\"]\n",
    "for_plot = for_plot.groupby([\"OpenSource\"]).size()\n",
    "for_plot = for_plot.reset_index()\n",
    "plt.bar(x = for_plot[\"OpenSource\"] , height = for_plot[0])"
   ]
  },
  {
   "cell_type": "code",
   "execution_count": 121,
   "metadata": {},
   "outputs": [
    {
     "data": {
      "image/png": "[encoded data removed]",
      "text/plain": [
       "<matplotlib.figure.Figure at 0x120badeb8>"
      ]
     },
     "metadata": {},
     "output_type": "display_data"
    }
   ],
   "source": [
    "#Where do the most hobbyists come from and non_hobbyists?? ,,, what about zero hobby countries\n",
    "for_plot = df2\n",
    "for_plot[\"Hobby\"] = for_plot[\"Hobby\"].map({'Yes': 1, 'No': 0})\n",
    "for_plot = for_plot.groupby(['Country']).agg({'Hobby':np.mean})\n",
    "for_plot = for_plot.reset_index()\n",
    "plt.figure(1 , figsize = (30,30))#This can be converted into geographical plot.\n",
    "plt.bar(x = for_plot[\"Country\"],height = for_plot[\"Hobby\"])\n",
    "plt.xticks(rotation = 90)\n",
    "plt.show()"
   ]
  },
  {
   "cell_type": "code",
   "execution_count": 96,
   "metadata": {},
   "outputs": [
    {
     "data": {
      "text/plain": [
       "0.0"
      ]
     },
     "execution_count": 96,
     "metadata": {},
     "output_type": "execute_result"
    }
   ],
   "source": [
    "for_plot[\"Hobby\"][52]"
   ]
  },
  {
   "cell_type": "code",
   "execution_count": 13,
   "metadata": {},
   "outputs": [
    {
     "data": {
      "text/html": [
       "<div>\n",
       "<style>\n",
       "    .dataframe thead tr:only-child th {\n",
       "        text-align: right;\n",
       "    }\n",
       "\n",
       "    .dataframe thead th {\n",
       "        text-align: left;\n",
       "    }\n",
       "\n",
       "    .dataframe tbody tr th {\n",
       "        vertical-align: top;\n",
       "    }\n",
       "</style>\n",
       "<table border=\"1\" class=\"dataframe\">\n",
       "  <thead>\n",
       "    <tr style=\"text-align: right;\">\n",
       "      <th></th>\n",
       "      <th>Column</th>\n",
       "      <th>QuestionText</th>\n",
       "    </tr>\n",
       "  </thead>\n",
       "  <tbody>\n",
       "    <tr>\n",
       "      <th>101</th>\n",
       "      <td>StackOverflowRecommend</td>\n",
       "      <td>How likely is it that you would recommend Stac...</td>\n",
       "    </tr>\n",
       "    <tr>\n",
       "      <th>102</th>\n",
       "      <td>StackOverflowVisit</td>\n",
       "      <td>How frequently would you say you visit Stack O...</td>\n",
       "    </tr>\n",
       "    <tr>\n",
       "      <th>103</th>\n",
       "      <td>StackOverflowHasAccount</td>\n",
       "      <td>Do you have a Stack Overflow account?</td>\n",
       "    </tr>\n",
       "    <tr>\n",
       "      <th>104</th>\n",
       "      <td>StackOverflowParticipate</td>\n",
       "      <td>How frequently would you say you participate i...</td>\n",
       "    </tr>\n",
       "    <tr>\n",
       "      <th>105</th>\n",
       "      <td>StackOverflowJobs</td>\n",
       "      <td>Have you ever used or visited Stack Overflow J...</td>\n",
       "    </tr>\n",
       "    <tr>\n",
       "      <th>106</th>\n",
       "      <td>StackOverflowDevStory</td>\n",
       "      <td>Do you have an up-to-date Developer Story on S...</td>\n",
       "    </tr>\n",
       "    <tr>\n",
       "      <th>107</th>\n",
       "      <td>StackOverflowJobsRecommend</td>\n",
       "      <td>How likely is it that you would recommend Stac...</td>\n",
       "    </tr>\n",
       "    <tr>\n",
       "      <th>108</th>\n",
       "      <td>StackOverflowConsiderMember</td>\n",
       "      <td>Do you consider yourself a member of the Stack...</td>\n",
       "    </tr>\n",
       "    <tr>\n",
       "      <th>109</th>\n",
       "      <td>HypotheticalTools1</td>\n",
       "      <td>Please rate your interest in participating in ...</td>\n",
       "    </tr>\n",
       "    <tr>\n",
       "      <th>110</th>\n",
       "      <td>HypotheticalTools2</td>\n",
       "      <td>Please rate your interest in participating in ...</td>\n",
       "    </tr>\n",
       "    <tr>\n",
       "      <th>111</th>\n",
       "      <td>HypotheticalTools3</td>\n",
       "      <td>Please rate your interest in participating in ...</td>\n",
       "    </tr>\n",
       "    <tr>\n",
       "      <th>112</th>\n",
       "      <td>HypotheticalTools4</td>\n",
       "      <td>Please rate your interest in participating in ...</td>\n",
       "    </tr>\n",
       "    <tr>\n",
       "      <th>113</th>\n",
       "      <td>HypotheticalTools5</td>\n",
       "      <td>Please rate your interest in participating in ...</td>\n",
       "    </tr>\n",
       "    <tr>\n",
       "      <th>114</th>\n",
       "      <td>WakeTime</td>\n",
       "      <td>On days when you work, what time do you typica...</td>\n",
       "    </tr>\n",
       "    <tr>\n",
       "      <th>115</th>\n",
       "      <td>HoursComputer</td>\n",
       "      <td>On a typical day, how much time do you spend o...</td>\n",
       "    </tr>\n",
       "    <tr>\n",
       "      <th>116</th>\n",
       "      <td>HoursOutside</td>\n",
       "      <td>On a typical day, how much time do you spend o...</td>\n",
       "    </tr>\n",
       "  </tbody>\n",
       "</table>\n",
       "</div>"
      ],
      "text/plain": [
       "                          Column  \\\n",
       "101       StackOverflowRecommend   \n",
       "102           StackOverflowVisit   \n",
       "103      StackOverflowHasAccount   \n",
       "104     StackOverflowParticipate   \n",
       "105            StackOverflowJobs   \n",
       "106        StackOverflowDevStory   \n",
       "107   StackOverflowJobsRecommend   \n",
       "108  StackOverflowConsiderMember   \n",
       "109           HypotheticalTools1   \n",
       "110           HypotheticalTools2   \n",
       "111           HypotheticalTools3   \n",
       "112           HypotheticalTools4   \n",
       "113           HypotheticalTools5   \n",
       "114                     WakeTime   \n",
       "115                HoursComputer   \n",
       "116                 HoursOutside   \n",
       "\n",
       "                                          QuestionText  \n",
       "101  How likely is it that you would recommend Stac...  \n",
       "102  How frequently would you say you visit Stack O...  \n",
       "103              Do you have a Stack Overflow account?  \n",
       "104  How frequently would you say you participate i...  \n",
       "105  Have you ever used or visited Stack Overflow J...  \n",
       "106  Do you have an up-to-date Developer Story on S...  \n",
       "107  How likely is it that you would recommend Stac...  \n",
       "108  Do you consider yourself a member of the Stack...  \n",
       "109  Please rate your interest in participating in ...  \n",
       "110  Please rate your interest in participating in ...  \n",
       "111  Please rate your interest in participating in ...  \n",
       "112  Please rate your interest in participating in ...  \n",
       "113  Please rate your interest in participating in ...  \n",
       "114  On days when you work, what time do you typica...  \n",
       "115  On a typical day, how much time do you spend o...  \n",
       "116  On a typical day, how much time do you spend o...  "
      ]
     },
     "execution_count": 13,
     "metadata": {},
     "output_type": "execute_result"
    }
   ],
   "source": [
    "#We need concentrate on 101 to 116 for the task, as to identify participation/involvement \n",
    "#in community according to the objective we need to map relevant columns like, Sex, Country, Job_descreption to these\n",
    "df1.loc[101:116]"
   ]
  },
  {
   "cell_type": "code",
   "execution_count": 14,
   "metadata": {},
   "outputs": [
    {
     "data": {
      "text/plain": [
       "array(['Respondent', 'Hobby', 'OpenSource', 'Country', 'Student',\n",
       "       'Employment', 'FormalEducation', 'UndergradMajor', 'CompanySize',\n",
       "       'DevType', 'YearsCoding', 'YearsCodingProf', 'JobSatisfaction',\n",
       "       'CareerSatisfaction', 'HopeFiveYears', 'JobSearchStatus',\n",
       "       'LastNewJob', 'AssessJob1', 'AssessJob2', 'AssessJob3',\n",
       "       'AssessJob4', 'AssessJob5', 'AssessJob6', 'AssessJob7',\n",
       "       'AssessJob8', 'AssessJob9', 'AssessJob10', 'AssessBenefits1',\n",
       "       'AssessBenefits2', 'AssessBenefits3', 'AssessBenefits4',\n",
       "       'AssessBenefits5', 'AssessBenefits6', 'AssessBenefits7',\n",
       "       'AssessBenefits8', 'AssessBenefits9', 'AssessBenefits10',\n",
       "       'AssessBenefits11', 'JobContactPriorities1',\n",
       "       'JobContactPriorities2', 'JobContactPriorities3',\n",
       "       'JobContactPriorities4', 'JobContactPriorities5',\n",
       "       'JobEmailPriorities1', 'JobEmailPriorities2',\n",
       "       'JobEmailPriorities3', 'JobEmailPriorities4',\n",
       "       'JobEmailPriorities5', 'JobEmailPriorities6',\n",
       "       'JobEmailPriorities7', 'UpdateCV', 'Currency', 'Salary',\n",
       "       'SalaryType', 'ConvertedSalary', 'CurrencySymbol',\n",
       "       'CommunicationTools', 'TimeFullyProductive', 'EducationTypes',\n",
       "       'SelfTaughtTypes', 'TimeAfterBootcamp', 'HackathonReasons',\n",
       "       'AgreeDisagree1', 'AgreeDisagree2', 'AgreeDisagree3',\n",
       "       'LanguageWorkedWith', 'LanguageDesireNextYear',\n",
       "       'DatabaseWorkedWith', 'DatabaseDesireNextYear',\n",
       "       'PlatformWorkedWith', 'PlatformDesireNextYear',\n",
       "       'FrameworkWorkedWith', 'FrameworkDesireNextYear', 'IDE',\n",
       "       'OperatingSystem', 'NumberMonitors', 'Methodology',\n",
       "       'VersionControl', 'CheckInCode', 'AdBlocker', 'AdBlockerDisable',\n",
       "       'AdBlockerReasons', 'AdsAgreeDisagree1', 'AdsAgreeDisagree2',\n",
       "       'AdsAgreeDisagree3', 'AdsActions', 'AdsPriorities1',\n",
       "       'AdsPriorities2', 'AdsPriorities3', 'AdsPriorities4',\n",
       "       'AdsPriorities5', 'AdsPriorities6', 'AdsPriorities7',\n",
       "       'AIDangerous', 'AIInteresting', 'AIResponsible', 'AIFuture',\n",
       "       'EthicsChoice', 'EthicsReport', 'EthicsResponsible',\n",
       "       'EthicalImplications', 'StackOverflowRecommend',\n",
       "       'StackOverflowVisit', 'StackOverflowHasAccount',\n",
       "       'StackOverflowParticipate', 'StackOverflowJobs',\n",
       "       'StackOverflowDevStory', 'StackOverflowJobsRecommend',\n",
       "       'StackOverflowConsiderMember', 'HypotheticalTools1',\n",
       "       'HypotheticalTools2', 'HypotheticalTools3', 'HypotheticalTools4',\n",
       "       'HypotheticalTools5', 'WakeTime', 'HoursComputer', 'HoursOutside',\n",
       "       'SkipMeals', 'ErgonomicDevices', 'Exercise', 'Gender',\n",
       "       'SexualOrientation', 'EducationParents', 'RaceEthnicity', 'Age',\n",
       "       'Dependents', 'MilitaryUS', 'SurveyTooLong', 'SurveyEasy'],\n",
       "      dtype=object)"
      ]
     },
     "execution_count": 14,
     "metadata": {},
     "output_type": "execute_result"
    }
   ],
   "source": [
    "df2.columns.values"
   ]
  },
  {
   "cell_type": "code",
   "execution_count": 45,
   "metadata": {},
   "outputs": [],
   "source": [
    "#Lets concentrate on self taught types\n",
    "df2[\"SelfTaughtTypes\"].isnull().sum()\n",
    "self_taught = df2[-df2[\"SelfTaughtTypes\"].isnull()]"
   ]
  },
  {
   "cell_type": "code",
   "execution_count": 46,
   "metadata": {},
   "outputs": [
    {
     "name": "stderr",
     "output_type": "stream",
     "text": [
      "/anaconda/lib/python3.6/site-packages/ipykernel/__main__.py:2: SettingWithCopyWarning: \n",
      "A value is trying to be set on a copy of a slice from a DataFrame.\n",
      "Try using .loc[row_indexer,col_indexer] = value instead\n",
      "\n",
      "See the caveats in the documentation: http://pandas.pydata.org/pandas-docs/stable/indexing.html#indexing-view-versus-copy\n",
      "  from ipykernel import kernelapp as app\n"
     ]
    }
   ],
   "source": [
    "#Counting how many sources self_taughts learn from \n",
    "self_taught[\"no_of_sources\"] = self_taught[\"SelfTaughtTypes\"].str.split(';').apply(lambda x : len(x))"
   ]
  },
  {
   "cell_type": "code",
   "execution_count": 77,
   "metadata": {},
   "outputs": [
    {
     "data": {
      "image/png": "[encoded data removed]",
      "text/plain": [
       "<matplotlib.figure.Figure at 0x11a65a9b0>"
      ]
     },
     "metadata": {},
     "output_type": "display_data"
    }
   ],
   "source": [
    "#Not much of a difference, is it??\n",
    "for_plot = self_taught.groupby([\"Hobby\"]).agg({'no_of_sources': np.mean})\n",
    "for_plot = for_plot.reset_index()\n",
    "for_plot.head()\n",
    "plt.figure(1)\n",
    "axes = plt.subplot(111)\n",
    "plt.bar(x = pd.Categorical(for_plot[\"Hobby\"]) , height = for_plot[\"no_of_sources\"])\n",
    "plt.xticks([0,1])\n",
    "a=axes.get_xticks().tolist()\n",
    "a[0] = \"No\"\n",
    "a[1] = \"Yes\"\n",
    "axes.set_xticklabels(a)\n",
    "plt.show()"
   ]
  },
  {
   "cell_type": "code",
   "execution_count": 82,
   "metadata": {},
   "outputs": [],
   "source": [
    "#Lets filter out people who have Stackoverflow in their learning sources\n",
    "stack_learners = df2[-df2[\"SelfTaughtTypes\"].isnull()]\n",
    "stack_learners = stack_learners[stack_learners[\"SelfTaughtTypes\"].str.contains(\"Stack Overflow\")]"
   ]
  },
  {
   "cell_type": "code",
   "execution_count": 84,
   "metadata": {},
   "outputs": [
    {
     "data": {
      "text/plain": [
       "0.5210156289514946"
      ]
     },
     "execution_count": 84,
     "metadata": {},
     "output_type": "execute_result"
    }
   ],
   "source": [
    "stack_learners.shape[0]/df2.shape[0] #Pretty impressive 52% question respondents, but wait...how did non-users get to know about survey"
   ]
  },
  {
   "cell_type": "code",
   "execution_count": null,
   "metadata": {
    "collapsed": true
   },
   "outputs": [],
   "source": [
    "#Which country has most mean stack_learners\n"
   ]
  }
 ],
 "metadata": {
  "kernelspec": {
   "display_name": "Python [conda root]",
   "language": "python",
   "name": "conda-root-py"
  },
  "language_info": {
   "codemirror_mode": {
    "name": "ipython",
    "version": 3
   },
   "file_extension": ".py",
   "mimetype": "text/x-python",
   "name": "python",
   "nbconvert_exporter": "python",
   "pygments_lexer": "ipython3",
   "version": "3.6.2"
  }
 },
 "nbformat": 4,
 "nbformat_minor": 2
}
