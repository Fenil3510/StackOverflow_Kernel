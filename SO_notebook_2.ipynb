{
  "cells": [
    {
      "metadata": {
        "_uuid": "3df6187a0504cbba8b40c2b1bcb4b30930b32723"
      },
      "cell_type": "markdown",
      "source": "# Introduction \n## The goal of this kernel is not creating beautiful visualization , rather to try to understand what causes factors cause more participation , involvement with SO website and what type of respondents feel as insiders of the community.\n* ##   The first part is some basic Exploratory Analysis\n* ## The Second part I have created a target value called *Ease of Participation* that incorporates participation,involvement , satisfaction with SO community. I have used *XGBoost* to Get the important variable in deciding the target"
    },
    {
      "metadata": {
        "_uuid": "aee75eef3af3998c86735a93d3c2e2388655db27"
      },
      "cell_type": "markdown",
      "source": "# PART I"
    },
    {
      "metadata": {
        "_uuid": "8df6f81d02df7ecdd250c14e5da4b8bc0d0dc569"
      },
      "cell_type": "markdown",
      "source": "# General EDA"
    },
    {
      "metadata": {
        "collapsed": true,
        "trusted": true,
        "_uuid": "5cdf07dc23b045e80abcfb5a0d559ffd30444824"
      },
      "cell_type": "code",
      "source": "%matplotlib inline",
      "execution_count": 8,
      "outputs": []
    },
    {
      "metadata": {
        "trusted": true,
        "_uuid": "e61181db0b51eb4a5aee4eb355043573c8fe0a33",
        "collapsed": true
      },
      "cell_type": "code",
      "source": "import pandas as pd\nimport seaborn\nimport matplotlib.pyplot as plt\nimport numpy as np\nimport seaborn as sns\nimport re\nimport xgboost\nimport operator",
      "execution_count": 9,
      "outputs": []
    },
    {
      "metadata": {
        "_uuid": "2c1f87f9fd4b50f36fe69245072539cbe0cf4f75"
      },
      "cell_type": "markdown",
      "source": "# Reading in Data"
    },
    {
      "metadata": {
        "trusted": true,
        "_uuid": "e56879d7d67b9aeeaa3ec031f3ef15d7adb9a5ea",
        "collapsed": true
      },
      "cell_type": "code",
      "source": "df1 = pd.read_csv('../input/survey_results_schema.csv')",
      "execution_count": 10,
      "outputs": []
    },
    {
      "metadata": {
        "trusted": true,
        "_uuid": "ee43ad97f8fccc52205198e7dc8b076ae5d1a0c3"
      },
      "cell_type": "code",
      "source": "df2 = pd.read_csv('../input/survey_results_public.csv')",
      "execution_count": 11,
      "outputs": [
        {
          "output_type": "stream",
          "text": "/opt/conda/lib/python3.6/site-packages/IPython/core/interactiveshell.py:2698: DtypeWarning: Columns (8,12,13,14,15,16,50,51,52,53,55,56,57,58,59,60,61,62,63,64,65,66,67,68,69,70,71,72,73,74,75,76,77,78,79,80,81,82,83,84,85,93,94,95,96,97,98,99,100,101,102,103,104,105,106,107,108,109,110,111,112,113,114,115,116,117,118,119,120,121,122,123,124,125,126,127,128) have mixed types. Specify dtype option on import or set low_memory=False.\n  interactivity=interactivity, compiler=compiler, result=result)\n",
          "name": "stderr"
        }
      ]
    },
    {
      "metadata": {
        "_uuid": "f054af3b9dd1412741e430bf103246478a37d275"
      },
      "cell_type": "markdown",
      "source": "# Some General Descriptive Statistics"
    },
    {
      "metadata": {
        "_uuid": "1e60e8b0838f0047e548f8e6469e32010e90f2aa"
      },
      "cell_type": "markdown",
      "source": "## Hobby Coders"
    },
    {
      "metadata": {
        "trusted": true,
        "_uuid": "bfcc23e65151d1ef80da1cabaafa62414887e9ed"
      },
      "cell_type": "code",
      "source": "plt.figure(1)\nfor_plot = df2.groupby([\"Hobby\"]).size()\nfor_plot = for_plot.reset_index()\nsns.barplot(x = for_plot[\"Hobby\"] , y = for_plot[0])\nplt.ylabel(\"Count\")\nplt.show()",
      "execution_count": 12,
      "outputs": [
        {
          "output_type": "display_data",
          "data": {
            "text/plain": "<matplotlib.figure.Figure at 0x7f8a141ea198>",
            "image/png": "[encoded data removed]"
          },
          "metadata": {}
        }
      ]
    },
    {
      "metadata": {
        "_uuid": "80a7c1abb4355280c0523fd28f17b8d53b6997c1"
      },
      "cell_type": "markdown",
      "source": "## Open Source People"
    },
    {
      "metadata": {
        "trusted": true,
        "_uuid": "fd45089c926f16015ad78fcd59c21739dc4d9b5e"
      },
      "cell_type": "code",
      "source": "plt.figure(1)\nfor_plot = df2.groupby([\"OpenSource\"]).size()\nfor_plot = for_plot.reset_index()\nsns.barplot(x = for_plot[\"OpenSource\"] , y = for_plot[0])\nplt.ylabel(\"Count\")\nplt.show()",
      "execution_count": 13,
      "outputs": [
        {
          "output_type": "display_data",
          "data": {
            "text/plain": "<matplotlib.figure.Figure at 0x7f8a7f44d8d0>",
            "image/png": "[encoded data removed]"
          },
          "metadata": {}
        }
      ]
    },
    {
      "metadata": {
        "_uuid": "453adab9e9a5fc1e303ba5901d33bf36ba7a9857"
      },
      "cell_type": "markdown",
      "source": "## Filtering respondents based on whether they use StackOverflow as their Learning Resource called Stack Learners"
    },
    {
      "metadata": {
        "collapsed": true,
        "trusted": true,
        "_uuid": "c458cfab23cb41644020b25fa757cf4455f0d320"
      },
      "cell_type": "code",
      "source": "df2[\"is_stack_learner\"] = df2[\"SelfTaughtTypes\"].str.contains(\"Stack Overflow\")",
      "execution_count": 14,
      "outputs": []
    },
    {
      "metadata": {
        "_uuid": "b49503e395a4e9e4b30547581b4faae32757f78f"
      },
      "cell_type": "markdown",
      "source": "### Out of the ones using StackOverflow as learning resource 40% participate less than once per month, 25% weekly few times, 15% Never participated"
    },
    {
      "metadata": {
        "trusted": true,
        "_uuid": "91cc4aab598658fbb0cd4d3d327ef50ebecc41ac"
      },
      "cell_type": "code",
      "source": "for_plot = df2[-pd.isnull(df2[\"is_stack_learner\"])]\nfor_plot = for_plot[for_plot[\"is_stack_learner\"]]\nfor_plot = for_plot.groupby([\"StackOverflowParticipate\"]).size().reset_index()\nfor_plot[0] = for_plot[0].apply(lambda x : x/for_plot[0].sum())\nplt.figure(1)\nD = zip(for_plot[\"StackOverflowParticipate\"], for_plot[0])\nD = sorted( list(D) , key = lambda x : x[1])\nplt.figure(1 , figsize = (30,30))\nx_val = [x[0] for x in D]\ny_val = [x[1] for x in D]\nsns.barplot(x_val , y_val)\nplt.xticks(rotation = 90)\nplt.show()\n#So about 55% of users who use stack overflow for learning end up participating very rarely. This subset must be \n#done with further investigation",
      "execution_count": 15,
      "outputs": [
        {
          "output_type": "display_data",
          "data": {
            "text/plain": "<matplotlib.figure.Figure at 0x7f89fc866c18>",
            "image/png": "[encoded data removed]"
          },
          "metadata": {}
        }
      ]
    },
    {
      "metadata": {
        "_uuid": "b24935fc8d91ec682d22835b9717ff86f55b3889"
      },
      "cell_type": "markdown",
      "source": "## How many Stack learners consider themsevles to be the members of the Site"
    },
    {
      "metadata": {
        "_uuid": "32f9df5b6d3ff5a717801a97596bad190c962f81"
      },
      "cell_type": "markdown",
      "source": "### Approx 40% of Stack learners dont cosider / not sure themselves as members"
    },
    {
      "metadata": {
        "trusted": true,
        "_uuid": "03daf7c47eb818759f6042da6a18b3384b2ecfd8",
        "collapsed": true
      },
      "cell_type": "code",
      "source": "for_plot = df2[-pd.isnull(df2[\"is_stack_learner\"])]\nfor_plot = for_plot[for_plot[\"is_stack_learner\"]]\nfor_plot = for_plot.groupby([\"StackOverflowConsiderMember\"]).size().reset_index()\nfor_plot[0] = for_plot[0].apply(lambda x : x/for_plot[0].sum())\nplt.figure(1)\nD = zip(for_plot[\"StackOverflowConsiderMember\"], for_plot[0])\nD = sorted( list(D) , key = lambda x : x[1])\nplt.figure(1 , figsize = (30,30))\nx_val = [x[0] for x in D]\ny_val = [x[1] for x in D]\nsns.barplot(x_val , y_val)\nplt.show()",
      "execution_count": 14,
      "outputs": []
    },
    {
      "metadata": {
        "_uuid": "a0ba398fa8a9335ccb257eaef7f609035d191098"
      },
      "cell_type": "markdown",
      "source": "## Do Stack  learners visit SO daily ?? Looks like that. Even I do visit daily"
    },
    {
      "metadata": {
        "trusted": true,
        "_uuid": "bc24149ec6f2e9c5e3357d14cc44e0f0143faa4d",
        "collapsed": true
      },
      "cell_type": "code",
      "source": "for_plot = df2[-pd.isnull(df2[\"is_stack_learner\"])]\nfor_plot = for_plot[for_plot[\"is_stack_learner\"]]\nfor_plot = for_plot.groupby([\"StackOverflowVisit\"]).size().reset_index()\nfor_plot[0] = for_plot[0].apply(lambda x : x/for_plot[0].sum())\nplt.figure(1)\nD = zip(for_plot[\"StackOverflowVisit\"], for_plot[0])\nD = sorted( list(D) , key = lambda x : x[1])\nplt.figure(1 , figsize = (30,30))\nx_val = [x[0] for x in D]\ny_val = [x[1] for x in D]\nsns.barplot(x_val , y_val)\nplt.xticks(rotation = 90)\nplt.show()",
      "execution_count": 15,
      "outputs": []
    },
    {
      "metadata": {
        "_uuid": "02d067dae49fd60fd1c4e9ba840307327a6efda6"
      },
      "cell_type": "markdown",
      "source": "## Lets consider only  Daily visitors and Multiple time daily visitors, But what proportion of them participate daily?\n\n### Only 15% of frequent visitors participate as frequently as they visit."
    },
    {
      "metadata": {
        "trusted": true,
        "_uuid": "6ed9249dd9ebcec0fbe36488c7bdce1501ab9424",
        "collapsed": true
      },
      "cell_type": "code",
      "source": "for_plot = df2[-pd.isnull(df2[\"is_stack_learner\"])]\nfor_plot = for_plot[for_plot[\"is_stack_learner\"]]\nfor_plot = for_plot[(for_plot[\"StackOverflowVisit\"] == \"Daily or almost daily\") | (for_plot[\"StackOverflowVisit\"] == \"Multiple times per day\")]\nfor_plot = for_plot.groupby([\"StackOverflowParticipate\"]).size().reset_index()\nfor_plot[0] = for_plot[0].apply(lambda x : x/for_plot[0].sum())\nD = zip(for_plot[\"StackOverflowParticipate\"], for_plot[0])\nD = sorted( list(D) , key = lambda x : x[1])\nplt.figure(1 , figsize = (5,5))\nx_val = [x[0] for x in D]\ny_val = [x[1] for x in D]\nsns.barplot(x_val , y_val)\nplt.xticks(rotation = 90)\nplt.show()",
      "execution_count": 16,
      "outputs": []
    },
    {
      "metadata": {
        "_uuid": "c65ea929e72838992def04563022c5ff2a42fef9"
      },
      "cell_type": "markdown",
      "source": "# PART II "
    },
    {
      "metadata": {
        "_uuid": "b3d2facaac15d0b471eb527d49e3aa49b31a888d"
      },
      "cell_type": "markdown",
      "source": "# * Ease of Participation. *\n### A Target Value to Measure how accessible or easy is to be involved with StackOverflow"
    },
    {
      "metadata": {
        "_uuid": "41de96c15d8546a3165e735847220ab3abada880"
      },
      "cell_type": "markdown",
      "source": "## Columns we are intersested in to form target -->  Ease of Participation"
    },
    {
      "metadata": {
        "collapsed": true,
        "trusted": true,
        "_uuid": "5785b47317b055cef843d23240e03a9712d06b6a"
      },
      "cell_type": "code",
      "source": "tempo = df1[(df1[\"Column\"].str.contains(\"StackOverflow\")) | (df1[\"Column\"].str.contains(\"Hypothetical\"))].reset_index()",
      "execution_count": 19,
      "outputs": []
    },
    {
      "metadata": {
        "trusted": true,
        "_uuid": "df75e9a493eaa493f47afc19d53e33419f1943a5",
        "collapsed": true
      },
      "cell_type": "code",
      "source": "tempo",
      "execution_count": 22,
      "outputs": []
    },
    {
      "metadata": {
        "_uuid": "f671fe6854479f11c8322e636d22027466234450"
      },
      "cell_type": "markdown",
      "source": " ### * Negative 1.5* Weight given to 'Hypothetical Tools2' Column as it asks respondents whether they prefer private area for new programmer. A higher score for this shows the lesser easy accessibilty of SO to new programmers"
    },
    {
      "metadata": {
        "trusted": true,
        "_uuid": "03d9a0b85d560cb4302ab6603f8688c110f63e52",
        "collapsed": true
      },
      "cell_type": "code",
      "source": "tempo.loc[9][2]  #Hypothetical Tools2",
      "execution_count": 24,
      "outputs": []
    },
    {
      "metadata": {
        "_uuid": "2c862f8fbee597823443f19fea50289516c69186"
      },
      "cell_type": "markdown",
      "source": "###  *Positive 1 *, to \"StackOverflowRecommend\" column because if you recommend you would surely like it. But doesnt show much of participation ease as even if you are only a visitor, you may recommend the site. Therefore weight of 1."
    },
    {
      "metadata": {
        "trusted": true,
        "_uuid": "efe3daf6b76eb246438379b177b6950c8022c8b6",
        "collapsed": true
      },
      "cell_type": "code",
      "source": "tempo.loc[0][2] #StackOverflowRecommend",
      "execution_count": 25,
      "outputs": []
    },
    {
      "metadata": {
        "trusted": true,
        "collapsed": true,
        "_uuid": "3e772e667849f6ed3fc27f84ae9b75acc7b58caa"
      },
      "cell_type": "markdown",
      "source": "### Positive 0.25 , given to \"StackOverflowHasAccount\" because account only shows a little to how much you participate though it is positive in some sense"
    },
    {
      "metadata": {
        "trusted": true,
        "_uuid": "575696c8eb7e671ada1d50aeb1f7403913466842",
        "collapsed": true
      },
      "cell_type": "code",
      "source": "tempo.loc[2][2] #StackOverflowHasAccount",
      "execution_count": 26,
      "outputs": []
    },
    {
      "metadata": {
        "trusted": true,
        "collapsed": true,
        "_uuid": "5ff1e2eea79eb4e6fcc40051b85378bf4ff2c1c4"
      },
      "cell_type": "markdown",
      "source": "### Positive 2 , given to  \"StackOverflowParticipation\" This is a very apt. measure for Ease of Participation on the site"
    },
    {
      "metadata": {
        "trusted": true,
        "_uuid": "a8fb6792aa182d73655e5f164d580f296867a5e7",
        "collapsed": true
      },
      "cell_type": "code",
      "source": "tempo.loc[3][2] #StackOverflowParticipation",
      "execution_count": 27,
      "outputs": []
    },
    {
      "metadata": {
        "trusted": true,
        "collapsed": true,
        "_uuid": "3e98c4d3ee437862b97ed049e2af93fe85e208a9"
      },
      "cell_type": "markdown",
      "source": "### Positive 1.5, to StackOverflowConsiderMember Those who consider probably like the overall community and feel as an insider."
    },
    {
      "metadata": {
        "trusted": true,
        "_uuid": "cf709f9b53fdbec7dcb14304bed5da8f493af248",
        "collapsed": true
      },
      "cell_type": "code",
      "source": "tempo.loc[7][2] #Positive 1.5",
      "execution_count": 28,
      "outputs": []
    },
    {
      "metadata": {
        "_uuid": "08790c61a863eb791ffcfeea60c37c1f60da36f1"
      },
      "cell_type": "markdown",
      "source": "##  Preparing the Target Ease of Participation and Some Mapping with all weights and scaling appropriately"
    },
    {
      "metadata": {
        "collapsed": true,
        "trusted": true,
        "_uuid": "b378adae9676e0f3a4c6cff0cb34839fa9d0e4e4"
      },
      "cell_type": "code",
      "source": "code  =  {'Extremely interested' :4 , 'Very interested' :3 , 'Somewhat interested' : 2 , 'A little bit interested' : 1 , 'Not at all interested' :0 }",
      "execution_count": 29,
      "outputs": []
    },
    {
      "metadata": {
        "collapsed": true,
        "trusted": true,
        "_uuid": "ca6ed4f4da8b60f8d2cbde0876137cbc7ef7493b"
      },
      "cell_type": "code",
      "source": "code_reco = {'10 (Very Likely)' :4 , '7' :3 , '9' : 4 , '8' : 3,  '0' : 0 , '1' : 0 , '6' : 2 , '5' : 2 , '4' : 1.5, '3':1 , '2': 1 }",
      "execution_count": 30,
      "outputs": []
    },
    {
      "metadata": {
        "collapsed": true,
        "trusted": true,
        "_uuid": "13e6a1d0ee761d2a51a1b3faae3b1d033b94ae01"
      },
      "cell_type": "code",
      "source": "df2[\"Ease of Participation\"] = -1.5 * df2[\"HypotheticalTools2\"].map(code) #-1.5 weight",
      "execution_count": 38,
      "outputs": []
    },
    {
      "metadata": {
        "collapsed": true,
        "trusted": true,
        "_uuid": "eb50b00bec3da382474e69946127e5d2700f672d"
      },
      "cell_type": "code",
      "source": "recommend = df2[\"StackOverflowRecommend\"].map(code_reco)",
      "execution_count": 40,
      "outputs": []
    },
    {
      "metadata": {
        "collapsed": true,
        "trusted": true,
        "_uuid": "31ce931acaf3175c5999b66a8672add744e97185"
      },
      "cell_type": "code",
      "source": "df2[\"Ease of Participation\"] += 1 * recommend # +1 weight",
      "execution_count": 41,
      "outputs": []
    },
    {
      "metadata": {
        "collapsed": true,
        "trusted": true,
        "_uuid": "81b8d22d6fba5cf5c2756c5c49927a82a3c9158a"
      },
      "cell_type": "code",
      "source": "account = df2[\"StackOverflowHasAccount\"].map({'Yes' : 1 , 'No' : 0 , 'I\\'m not sure / I can\\'t remember' : 0}) ",
      "execution_count": 44,
      "outputs": []
    },
    {
      "metadata": {
        "collapsed": true,
        "trusted": true,
        "_uuid": "2f493c3e441d2925bc3b349439cbefc7cfdab517"
      },
      "cell_type": "code",
      "source": "df2[\"Ease of Participation\"] += account *4 * 0.25   #+0.25 weight ; Scaled to 0-4",
      "execution_count": 45,
      "outputs": []
    },
    {
      "metadata": {
        "collapsed": true,
        "trusted": true,
        "_uuid": "4237f5a493a37d83ff80521236b6dfaeda6d7d6a"
      },
      "cell_type": "code",
      "source": "participate_map = {'I have never participated in Q&A on Stack Overflow':0, 'Less than once per month or monthly' :1 , 'A few times per month or weekly' : 2 ,'A few times per week' : 3 ,'Daily or almost daily' : 4, 'Multiple times per day' : 4  }",
      "execution_count": 46,
      "outputs": []
    },
    {
      "metadata": {
        "trusted": true,
        "_uuid": "516d825e71185de0973612ad4bd7cc3241271ec3",
        "collapsed": true
      },
      "cell_type": "code",
      "source": "participate_map",
      "execution_count": 47,
      "outputs": []
    },
    {
      "metadata": {
        "collapsed": true,
        "trusted": true,
        "_uuid": "e0169eaf3121efd0eff18e5eae263846b2d8da2b"
      },
      "cell_type": "code",
      "source": "participates = df2[\"StackOverflowParticipate\"].map(participate_map)",
      "execution_count": 48,
      "outputs": []
    },
    {
      "metadata": {
        "collapsed": true,
        "trusted": true,
        "_uuid": "ed9e806b593b07491ddc87589860fdf633cf8d4c"
      },
      "cell_type": "code",
      "source": "df2[\"Ease of Participation\"] += (participates * 2) #+2 weight",
      "execution_count": 49,
      "outputs": []
    },
    {
      "metadata": {
        "collapsed": true,
        "trusted": true,
        "_uuid": "6794a97588ed599f5c973db8a20e66369b982f9c"
      },
      "cell_type": "code",
      "source": "memberso = df2[\"StackOverflowConsiderMember\"].map({'Yes' : 1 , 'No' : 0 , 'I\\'m not sure' : 0}) ",
      "execution_count": 50,
      "outputs": []
    },
    {
      "metadata": {
        "collapsed": true,
        "trusted": true,
        "_uuid": "5091673378b42b3a5026b59169da1ec306135a0c"
      },
      "cell_type": "code",
      "source": "df2[\"Ease of Participation\"] += memberso * 4 * 1.5 #+1.5 weight ; scaled to 0-4",
      "execution_count": 51,
      "outputs": []
    },
    {
      "metadata": {
        "_uuid": "cd1d007e91b61cacf9cbd8892ece55b6befa531b"
      },
      "cell_type": "markdown",
      "source": "## Ease of Participation is higher for Stack Learners. Which is intuitive"
    },
    {
      "metadata": {
        "trusted": true,
        "_uuid": "78c48c0b36bcb65ba988529445fac8dbad749071",
        "collapsed": true
      },
      "cell_type": "code",
      "source": "plt.figure(1)\nfor_plot = df2[-pd.isnull(df2[\"is_stack_learner\"])]\nsns.boxplot(x = for_plot[\"is_stack_learner\"] , y = for_plot[\"Ease of Participation\"])# , order = meds)\nplt.xticks(rotation = 90)\nplt.show()\n",
      "execution_count": 53,
      "outputs": []
    },
    {
      "metadata": {
        "_uuid": "4b1d325074e98ad162051b02bcce418d68f2f3d1"
      },
      "cell_type": "markdown",
      "source": "## Country wise mean Ease of Participation Score"
    },
    {
      "metadata": {
        "trusted": true,
        "_uuid": "0dd0b9fa4025c7671f6cb4b002b9541212d99526",
        "collapsed": true
      },
      "cell_type": "code",
      "source": "for_plot = df2.groupby([\"Country\"])[\"Ease of Participation\"].mean().reset_index().dropna()\nplt.figure(7 , figsize= (30,30))\n#sns.barplot(x = for_plot[\"Country\"] , height = for_plot[\"Ease of Participation\"])\n#plt.xticks(rotation = 90)\nD = zip(for_plot[\"Country\"], for_plot[\"Ease of Participation\"])\nD = sorted( list(D) , key = lambda x : x[1])\nplt.figure(1 , figsize = (30,30))\nx_val = [x[0] for x in D]\ny_val = [x[1] for x in D]\nsns.barplot(x_val , y_val)\nplt.xticks(rotation = 90)\nplt.show()",
      "execution_count": 54,
      "outputs": []
    },
    {
      "metadata": {
        "_uuid": "b2528d523b0cef9176f1e26aa1b8a603940032db"
      },
      "cell_type": "markdown",
      "source": "## Ease of Participation different for Windows users? Not much"
    },
    {
      "metadata": {
        "trusted": true,
        "_uuid": "08e66e3863d2b2115d4b99bf029cdd223a9a3e03",
        "collapsed": true
      },
      "cell_type": "code",
      "source": "df2[\"is_windows\"] = (df2[\"OperatingSystem\"] == \"Windows\")\nplt.figure(1)\nplt.figure(1)\nsns.boxplot(x = df2[\"is_windows\"] , y = df2[\"Ease of Participation\"])# , order = meds)\nplt.xticks(rotation = 90)\nplt.show()\n",
      "execution_count": 56,
      "outputs": []
    },
    {
      "metadata": {
        "_uuid": "9bba5536d3136eae8a18a7863056b7ba7d1af0d2"
      },
      "cell_type": "markdown",
      "source": "## Ease of Participation is higher for non-students"
    },
    {
      "metadata": {
        "trusted": true,
        "_uuid": "8983e2220a43572e6b115d5d35839b63229584cd",
        "collapsed": true
      },
      "cell_type": "code",
      "source": "plt.figure(1)\nsns.boxplot(x = df2[\"Student\"] , y = df2[\"Ease of Participation\"])\nplt.show()",
      "execution_count": 57,
      "outputs": []
    },
    {
      "metadata": {
        "_uuid": "7d1f1494b17c473171d5d5ba6af63b6b301b4263"
      },
      "cell_type": "markdown",
      "source": "## As expected the Ease of Participation if least for 0-2 years coding experience and increases with the number years"
    },
    {
      "metadata": {
        "trusted": true,
        "_uuid": "9ff687d4e24390c66dec79cdab1a2e688d43a1ee",
        "collapsed": true
      },
      "cell_type": "code",
      "source": "plt.figure(1)\nsns.boxplot(x = df2[\"YearsCoding\"] , y = df2[\"Ease of Participation\"])\nplt.xticks(rotation = 90)\n#pol.set_xticklabels(rotation=90)\nplt.show()",
      "execution_count": 58,
      "outputs": []
    },
    {
      "metadata": {
        "_uuid": "2630908caabc478c6484f991240d13367caf9f04"
      },
      "cell_type": "markdown",
      "source": "## Ease of Participation different for Hobby users? Higher for Hobbyists"
    },
    {
      "metadata": {
        "trusted": true,
        "_uuid": "3918ecc28ad8d44d74356e9eb10b06ac39a8076f",
        "collapsed": true
      },
      "cell_type": "code",
      "source": "plt.figure(1)\nsns.boxplot(x = df2[\"Hobby\"] , y = df2[\"Ease of Participation\"])# , order = meds)\nplt.xticks(rotation = 90)\n#pol.set_xticklabels(rotation=90)\nplt.show()",
      "execution_count": 62,
      "outputs": []
    },
    {
      "metadata": {
        "_uuid": "4ce837b0cc8c48acc7810f8647e82b5498e2224e"
      },
      "cell_type": "markdown",
      "source": "## Number of Monitors ? 4+ , monitor users have highest median score"
    },
    {
      "metadata": {
        "trusted": true,
        "_uuid": "0e4096f28b219bd5fada0edf9b5491cc988c8bcd",
        "collapsed": true
      },
      "cell_type": "code",
      "source": "#Number of Monitors??\nplt.figure(1)\nsns.boxplot(x = df2[\"NumberMonitors\"] , y = df2[\"Ease of Participation\"])# , order = meds)\nplt.xticks(rotation = 90)\n#pol.set_xticklabels(rotation=90)\nplt.show()",
      "execution_count": 64,
      "outputs": []
    },
    {
      "metadata": {
        "_uuid": "8206a9bbab6b3469650d2ceb4784ba864834e5c5"
      },
      "cell_type": "markdown",
      "source": "## Ease of Participation is higer for both least Hours on Computer and most Hours on Computer per day"
    },
    {
      "metadata": {
        "trusted": true,
        "_uuid": "5706b28aa923fc59e0c9a070a0a07be8dbc7141f",
        "collapsed": true
      },
      "cell_type": "code",
      "source": "plt.figure(1)\nsns.boxplot(x = df2[\"HoursComputer\"] , y = df2[\"Ease of Participation\"])# , order = meds)\nplt.xticks(rotation = 90)\n#pol.set_xticklabels(rotation=90)\nplt.show()",
      "execution_count": 66,
      "outputs": []
    },
    {
      "metadata": {
        "_uuid": "acb8b8ef493ba8b892a3c169469d924af9a135d3"
      },
      "cell_type": "markdown",
      "source": "## Multiple Choice encoding, directly picked from NanoMathias [here](http://https://www.kaggle.com/nanomathias/predicting-r-vs-python)"
    },
    {
      "metadata": {
        "trusted": true,
        "_uuid": "039cc5d9096b4a9ce0a4a7311377707fd670097b",
        "collapsed": true
      },
      "cell_type": "code",
      "source": "\nMULTIPLE_CHOICE = [\n    'CommunicationTools','EducationTypes','SelfTaughtTypes','HackathonReasons', \n    'DatabaseWorkedWith','DatabaseDesireNextYear','PlatformWorkedWith',\n    'PlatformDesireNextYear','Methodology','VersionControl',\n    'AdBlockerReasons','AdsActions','ErgonomicDevices','Gender',\n    'SexualOrientation','RaceEthnicity', 'LanguageWorkedWith'\n]\nfor c in MULTIPLE_CHOICE:\n    # Check if there are multiple entries in this column\n    temp = df2[c].str.split(';', expand=True)\n\n    # Get all the possible values in this column\n    new_columns = pd.unique(temp.values.ravel())\n    for new_c in new_columns:\n        if new_c and new_c is not np.nan:\n            \n            # Create new column for each unique column\n            idx = df2[c].str.contains(new_c, regex=False).fillna(False)\n            df2.loc[idx, f\"{c}_{new_c}\"] = 1\n\n    # Info to the user\n    print(f\">> Multiple entries in {c}. Added {len(new_columns)} one-hot-encoding columns\")\n",
      "execution_count": 67,
      "outputs": []
    },
    {
      "metadata": {
        "_uuid": "ae5f3560bdb2fe7fb7d81b33b5cbd916c42b0f5f"
      },
      "cell_type": "markdown",
      "source": "### Ease of Participation for different Languages (Only Stack Learners Taken)\n#### More analysis can be further done, based on classification of languages"
    },
    {
      "metadata": {
        "trusted": true,
        "_uuid": "5d0db3aa3dca22d54deebd2eb1ad6506c968097a",
        "collapsed": true
      },
      "cell_type": "code",
      "source": "for_plot = df2\nfor_plot[[cols for cols in for_plot.columns.values if re.search('^Language\\S+_' , cols)]] = for_plot[[cols for cols in for_plot.columns.values if re.search('^Language\\S+_' , cols)]].fillna(0)\nfor_plot = for_plot[for_plot[[cols for cols in for_plot.columns.values if re.search('^Language\\S+_' , cols)]].sum(axis=1)!=0]\nfor_plot = for_plot[-pd.isnull(for_plot[\"is_stack_learner\"])]\nfor_plot = for_plot[for_plot[\"is_stack_learner\"]] #Those who learn using stack overflow, probably the lanugage , therefore subsettin\nfor_plot = for_plot[[cols for cols in for_plot.columns.values if re.search('^Language\\S+_' , cols)] + ['Ease of Participation']]\nD = {}\nfor i in for_plot.columns.values[:-1]:\n    D[i] = for_plot[for_plot[i] == 1][\"Ease of Participation\"].mean()\nD = sorted(D.items(), key=operator.itemgetter(1))\nplt.figure(1 , figsize = (30,30))\nx_val = [x[0] for x in D]\ny_val = [x[1] for x in D]\nsns.barplot(x_val , y_val)\nplt.xticks(rotation = 90)\nplt.show()",
      "execution_count": 68,
      "outputs": []
    },
    {
      "metadata": {
        "_uuid": "ba7a2bdd03a8ba83cd7736937f22eb36fc6dfb3e"
      },
      "cell_type": "markdown",
      "source": "### Education Types affects Ease?? Learners who have taught themselves by contributing to OSS have higher socre "
    },
    {
      "metadata": {
        "trusted": true,
        "_uuid": "25124a96583a4806c5ef779c68ddf5ae18aa1504",
        "collapsed": true
      },
      "cell_type": "code",
      "source": "for_plot = df2\nfor_plot[[cols for cols in for_plot.columns.values if re.search('^EducationTypes_' , cols)]] = for_plot[[cols for cols in for_plot.columns.values if re.search('^EducationTypes_' , cols)]].fillna(0)    \nfor_plot = for_plot[for_plot[[cols for cols in for_plot.columns.values if re.search('^EducationTypes_' , cols)]].sum(axis=1)!=0]\n#Those who learn using stack overflow, probably the lanugage , therefore subsettin\nfor_plot = for_plot[[cols for cols in for_plot.columns.values if re.search('^EducationTypes_' , cols)] + ['Ease of Participation']]\nD = {}\nfor i in for_plot.columns.values[:-1]:\n    D[i] = for_plot[for_plot[i] == 1][\"Ease of Participation\"].mean()\nD = sorted(D.items(), key=operator.itemgetter(1))\nplt.figure(1 , figsize = (5,5))\nx_val = [x[0] for x in D]\ny_val = [x[1] for x in D]\nsns.barplot(x_val , y_val)\nplt.xticks(rotation = 90)\nplt.show()",
      "execution_count": 70,
      "outputs": []
    },
    {
      "metadata": {
        "_uuid": "32c7104b72ae94c61450e89a7bf54d091971b949"
      },
      "cell_type": "markdown",
      "source": "### Version Control-wise comparison. Least for Non-users and Copy_pasters. Expected."
    },
    {
      "metadata": {
        "trusted": true,
        "_uuid": "1405cf56ae5bd8d4b17315fbac6449740d85e10d",
        "collapsed": true
      },
      "cell_type": "code",
      "source": "for_plot = df2\nfor_plot[[cols for cols in for_plot.columns.values if re.search('^VersionControl_' , cols)]] = for_plot[[cols for cols in for_plot.columns.values if re.search('^VersionControl_' , cols)]].fillna(0)\nfor_plot = for_plot[for_plot[[cols for cols in for_plot.columns.values if re.search('^VersionControl_' , cols)]].sum(axis=1)!=0]\nfor_plot = for_plot[[cols for cols in for_plot.columns.values if re.search('^VersionControl_' , cols)] + ['Ease of Participation']]\nD = {}\nfor i in for_plot.columns.values[:-1]:\n    D[i] = for_plot[for_plot[i] == 1][\"Ease of Participation\"].mean()\nD = sorted(D.items(), key=operator.itemgetter(1))\nplt.figure(1 , figsize = (5,5))\nx_val = [x[0] for x in D]\ny_val = [x[1] for x in D]\nsns.barplot(x_val , y_val)\nplt.xticks(rotation = 90)\nplt.show()",
      "execution_count": 71,
      "outputs": []
    },
    {
      "metadata": {
        "_uuid": "7476a4fa852fa00e2c954e4feef7ca775d5b0929"
      },
      "cell_type": "markdown",
      "source": "### Not much difference in methodology of programming"
    },
    {
      "metadata": {
        "trusted": true,
        "_uuid": "2f82d54ef988f43d4318ae8025371d42e3834a94",
        "collapsed": true
      },
      "cell_type": "code",
      "source": "for_plot = df2\nfor_plot[[cols for cols in for_plot.columns.values if re.search('^Methodology_' , cols)]] = for_plot[[cols for cols in for_plot.columns.values if re.search('^Methodology_' , cols)]].fillna(0)\nfor_plot = for_plot[for_plot[[cols for cols in df2.columns.values if re.search('^Methodology_' , cols)]].sum(axis=1)!=0]\n#Those who learn using stack overflow, probably the lanugage , therefore subsettin\nfor_plot = for_plot[[cols for cols in for_plot.columns.values if re.search('^Methodology_' , cols)] + ['Ease of Participation']]\nD = {}\nfor i in for_plot.columns.values[:-1]:\n    D[i] = for_plot[for_plot[i] == 1][\"Ease of Participation\"].mean()\nD = sorted(D.items(), key=operator.itemgetter(1))\nplt.figure(1 , figsize = (5,5))\nx_val = [x[0] for x in D]\ny_val = [x[1] for x in D]\nsns.barplot(x_val , y_val)\nplt.xticks(rotation = 90)\nplt.show()",
      "execution_count": 72,
      "outputs": []
    },
    {
      "metadata": {
        "_uuid": "a0609e3680d2e115e31cc8f67ae87ea255a0a74b"
      },
      "cell_type": "markdown",
      "source": "### StackOverflow Enterprise stands out in Communication Tools"
    },
    {
      "metadata": {
        "trusted": true,
        "_uuid": "85608d81639898c5ac28132fd8c24c7bc61a8bba",
        "collapsed": true
      },
      "cell_type": "code",
      "source": "for_plot = df2\nfor_plot[[cols for cols in for_plot.columns.values if re.search('CommunicationTools_' , cols)]] = for_plot[[cols for cols in for_plot.columns.values if re.search('CommunicationTools_' , cols)]].fillna(0)\nfor_plot = for_plot[for_plot[[cols for cols in for_plot.columns.values if re.search('CommunicationTools_' , cols)]].sum(axis=1)!=0]\n#Those who learn using stack overflow, probably the lanugage , therefore subsettin\nfor_plot = for_plot[[cols for cols in for_plot.columns.values if re.search('CommunicationTools_' , cols)] + ['Ease of Participation']]\nD = {}\nfor i in for_plot.columns.values[:-1]:\n    D[i] = for_plot[for_plot[i] == 1][\"Ease of Participation\"].mean()\nD = sorted(D.items(), key=operator.itemgetter(1))\nplt.figure(1 , figsize = (5,5))\nx_val = [x[0] for x in D]\ny_val = [x[1] for x in D]\nsns.barplot(x_val , y_val)\nplt.xticks(rotation = 90)\nplt.show()",
      "execution_count": 73,
      "outputs": []
    },
    {
      "metadata": {
        "collapsed": true,
        "trusted": true,
        "_uuid": "bddb955843b4d68486bc0c933eea2ff07b14a76b"
      },
      "cell_type": "markdown",
      "source": "### Excluding columns with more than 15 categories"
    },
    {
      "metadata": {
        "trusted": true,
        "_uuid": "a33e58b1cd28d59d0f1e9b3dc09163e871d5ced9",
        "collapsed": true
      },
      "cell_type": "code",
      "source": "uniqueness = []\nfor i in df2.columns.values[1:]:\n    if len(pd.unique(df2[i])) > 15:\n        continue\n        #print(i)\n    elif \"StackOverflow\" in i:\n        continue\n        #print(\"TARGET --->\", i)\n    elif \"Hypo\" in i:\n        continue\n        #print(\"TARGET --->\", i) \n    else:\n        uniqueness.append(i)",
      "execution_count": 76,
      "outputs": []
    },
    {
      "metadata": {
        "_uuid": "b4ca23e610b8c6401eb5ed1bf902525bf341f23a"
      },
      "cell_type": "markdown",
      "source": "## Getting columns ready for Xgboost"
    },
    {
      "metadata": {
        "trusted": true,
        "_uuid": "6db5ed1268e565b34463a6094e2e84a50aacf56a",
        "collapsed": true
      },
      "cell_type": "code",
      "source": "for_tree = df2\nfor_tree = for_tree[[cols for cols in uniqueness]]\nfor_tree = for_tree.drop(\"SexualOrientation\", axis = 1)\nlisto = list(for_tree.dtypes == object)\nfor_tree2 = for_tree\nfor i,col in enumerate(for_tree.columns.values):\n    if listo[i] == True:\n        new_columns = pd.get_dummies(for_tree[col])\n        for new_c in new_columns:\n            #print(f\"{col}_{new_c}\")\n            if new_c and new_c is not np.nan:\n                for_tree2 = pd.concat([for_tree2, new_columns[new_c]] , axis = 1)\n                for_tree2.columns.values[-1] = f\"{col}_{new_c}\"\n        for_tree2 = for_tree2.drop(col,axis = 1)",
      "execution_count": 77,
      "outputs": []
    },
    {
      "metadata": {
        "trusted": true,
        "_uuid": "9eec3431a5ae8c72464b2caa2bd372a4bdda0829",
        "collapsed": true
      },
      "cell_type": "code",
      "source": "for_tree2.head()",
      "execution_count": 78,
      "outputs": []
    },
    {
      "metadata": {
        "_uuid": "04f8e3daacc6122f8c47e9a3cb5162625d3bf6b5"
      },
      "cell_type": "markdown",
      "source": "## Removing NaN's for target"
    },
    {
      "metadata": {
        "trusted": true,
        "collapsed": true,
        "_uuid": "b26301894cc40bd216ecc0f2e8507cf1c889c38c"
      },
      "cell_type": "code",
      "source": "final_tree = pd.concat([for_tree2 , df2[\"Ease of Participation\"]] , axis = 1)\nfinal_tree = final_tree[-pd.isnull(final_tree[\"Ease of Participation\"])]",
      "execution_count": 80,
      "outputs": []
    },
    {
      "metadata": {
        "trusted": true,
        "_uuid": "765420a54720d4b2da7d13349966c4f4d5e1dbd4",
        "collapsed": true
      },
      "cell_type": "code",
      "source": "final_tree.head(8)",
      "execution_count": 81,
      "outputs": []
    },
    {
      "metadata": {
        "trusted": true,
        "_uuid": "787430b675c086905780cb113e5127563e377183",
        "collapsed": true
      },
      "cell_type": "code",
      "source": "import xgboost as xgb\n# read in data\ndtrain = xgb.DMatrix(final_tree.iloc[:,:-1] , label= final_tree[\"Ease of Participation\"])",
      "execution_count": 82,
      "outputs": []
    },
    {
      "metadata": {
        "trusted": true,
        "_uuid": "fcc7da82ba40b9101b7b3bca631b591425896790",
        "collapsed": true
      },
      "cell_type": "code",
      "source": "dtrain.get_label()",
      "execution_count": 83,
      "outputs": []
    },
    {
      "metadata": {
        "_uuid": "b356ae401f8ccae9fbd85a71b513c128b5a9d327"
      },
      "cell_type": "markdown",
      "source": "## Run in XGboost"
    },
    {
      "metadata": {
        "trusted": true,
        "_uuid": "98fe7c9e43d15542f56b701e9a574705d3c37ffe",
        "collapsed": true
      },
      "cell_type": "code",
      "source": "# specify parameters via map\nparam = {'max_depth':1, 'eta':0.01, 'silent' : 0 , 'objective':'reg:linear' , 'subset' : 0.5 }\nnum_round = 500\nbst = xgb.train(param, dtrain, num_round)",
      "execution_count": 84,
      "outputs": []
    },
    {
      "metadata": {
        "_uuid": "6dab06f7e61313cf7706a24347ec22f074fe2d2f"
      },
      "cell_type": "markdown",
      "source": "## Make Predictions"
    },
    {
      "metadata": {
        "trusted": true,
        "collapsed": true,
        "_uuid": "f85511214ffc41b432ebf02791eff95ceacde3aa"
      },
      "cell_type": "code",
      "source": "dtest = xgb.DMatrix(final_tree.iloc[:,:-1])\npreds = bst.predict(dtest)",
      "execution_count": 85,
      "outputs": []
    },
    {
      "metadata": {
        "_uuid": "abc31736e3fa68410cbf71d27cef3d2bb44e970a"
      },
      "cell_type": "markdown",
      "source": "## Feature Importance "
    },
    {
      "metadata": {
        "trusted": true,
        "_uuid": "105b3fda2a67d13da2d09d336d1836e8a0e02467",
        "collapsed": true
      },
      "cell_type": "code",
      "source": "fig, ax = plt.subplots(figsize=(12,18))\nxgb.plot_importance(bst, max_num_features=50, height=0.8, ax=ax)\nplt.show()",
      "execution_count": 86,
      "outputs": []
    },
    {
      "metadata": {
        "collapsed": true,
        "trusted": false,
        "_uuid": "c82a697360a059f427cda73e2416210411abc74e"
      },
      "cell_type": "markdown",
      "source": "# Top 4 Features.  Although some are surprising\n## 1.  OpenSource Users\n## 2. Respondents who strongly Disagree that they are \"not\" as good as their peers\n## 3. Years Coding Professionally (0-2)\n## 4. Years Coding (0-2)"
    },
    {
      "metadata": {
        "_uuid": "90939a4e6522fcf841fe6612b736c4d31a2afa28"
      },
      "cell_type": "markdown",
      "source": "## To be done\n1. Better weighting stratergy to prepare target Ease of Participation\n2. Clustering Languages into categories and looking for insights\n3. Fine-Tuning XGBoost better\n4. Suggesstions in the comments"
    }
  ],
  "metadata": {
    "kernelspec": {
      "display_name": "Python 3",
      "language": "python",
      "name": "python3"
    },
    "language_info": {
      "name": "python",
      "version": "3.6.5",
      "mimetype": "text/x-python",
      "codemirror_mode": {
        "name": "ipython",
        "version": 3
      },
      "pygments_lexer": "ipython3",
      "nbconvert_exporter": "python",
      "file_extension": ".py"
    }
  },
  "nbformat": 4,
  "nbformat_minor": 1
}